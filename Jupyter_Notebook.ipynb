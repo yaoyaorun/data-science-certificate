{
 "cells": [
  {
   "cell_type": "markdown",
   "metadata": {},
   "source": [
    "<center>\n",
    "    <img src=\"https://cf-courses-data.s3.us.cloud-object-storage.appdomain.cloud/IBMDeveloperSkillsNetwork-DS0105EN-SkillsNetwork/labs/Module2/images/SN_web_lightmode.png\" width=\"300\" alt=\"cognitiveclass.ai logo\">\n",
    "</center>"
   ]
  },
  {
   "cell_type": "markdown",
   "metadata": {},
   "source": [
    "## Data science tools and ecosystem\n",
    "In this notebook, data science tool and ecosystem are summarised\n",
    "\n",
    "### Data Science Languages\n",
    "- Python\n",
    "- R\n",
    "- Julia\n",
    "- SAS\n",
    "- SQL\n",
    "- Scala\n",
    "- MATLAB\n",
    "- Java\n",
    "- C++\n",
    "- Octave\n",
    "\n",
    "### Data Science Libraries\n",
    "- NumPy\n",
    "- Pandas\n",
    "- Matplotlib\n",
    "- Seaborn\n",
    "- Scikit-learn\n",
    "- TensorFlow\n",
    "- Keras\n",
    "- PyTorch\n",
    "- Statsmodels\n",
    "\n",
    "### Data Science Tools\n",
    "| Tool        | Description                          |\n",
    "|-------------|--------------------------------------|\n",
    "| Jupyter     | Interactive notebooks                |\n",
    "| RStudio     | Integrated development environment   |\n",
    "| Anaconda    | Python distribution                  |\n",
    "| Git         | Version control system               |\n",
    "| Tableau     | Data visualization                   |\n",
    "| Spyder   | Business intelligence                |\n",
    "| Zeppelin| Big data processing                  |\n",
    "\n",
    "### Arithmetic Expressions\n",
    "\n",
    "Below are a few examples of evaluating arithmetic expressions in python:\n",
    "\n",
    "### objectives\n",
    "\n",
    "- Add comments to code cells\n",
    "- create markdown cells\n",
    "- add ordered and unordered lists to markdown cells\n",
    "- format content of markdown cells with heading styles\n",
    "\n",
    
   "### Code Cell 1\n",
        "```python\n",
        "# This is a simple arithmetic expression to multiply then add integers\n",
        "(3 * 4) + 5\n",
        "```\n",
        "\n",
    "### Code Cell 2\n",
    "```python\n",
    "# this will convert 200 minitues to hours by dividing by 60\n",
            "200//60",
    "```\n",
    "\n",
    "### Author\n",
    "Yao Xiao\n"
   ]
  }
 ],
 "metadata": {
  "kernelspec": {
   "display_name": "Python",
   "language": "python",
   "name": "conda-env-python-py"
  },
  "language_info": {
   "name": ""
  }
 },
 "nbformat": 4,
 "nbformat_minor": 4
}
