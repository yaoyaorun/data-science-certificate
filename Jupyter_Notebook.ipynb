{
 "cells": [
  {
   "cell_type": "markdown",
   "metadata": {},
   "source": [
    "<center>\n",
    "    <img src=\"https://cf-courses-data.s3.us.cloud-object-storage.appdomain.cloud/IBMDeveloperSkillsNetwork-DS0105EN-SkillsNetwork/labs/Module2/images/SN_web_lightmode.png\" width=\"300\" alt=\"cognitiveclass.ai logo\">\n",
    "</center>"
   ]
  },
  {
   "cell_type": "markdown",
   "metadata": {},
   "source": [
    "#### Data Science Languages\n",
    "1. Python\n",
    "2. R\n",
    "3. Julia\n",
    "4. SAS\n",
    "5. SQL\n",
    "6. Scala\n",
    "7. MATLAB\n",
    "8. Java\n",
    "9. C++\n",
    "10. Octave\n",
    "\n",
    "These are some of the popular programming languages used in data science."
   ]
  },
  {
   "cell_type": "markdown",
   "metadata": {},
   "source": [
    "#### Data Science Libraries\n",
    "- NumPy\n",
    "- Pandas\n",
    "- Matplotlib\n",
    "- Seaborn\n",
    "- Scikit-learn\n",
    "- TensorFlow\n",
    "- Keras\n",
    "- PyTorch\n",
    "- Statsmodels\n",
    "\n",
    "These are some of the popular libraries used in data science."
   ]
  },
  {
   "cell_type": "markdown",
   "metadata": {},
   "source": [
    "#### Data Science Tools\n",
    "\n",
    "| Tool        | Description                          |\n",
    "|-------------|--------------------------------------|\n",
    "| Jupyter     | Interactive notebooks                |\n",
    "| RStudio     | Integrated development environment   |\n",
    "| Anaconda    | Python distribution                  |\n",
    "| Git         | Version control system               |\n",
    "| Tableau     | Data visualization                   |\n",
    "| Power BI    | Business intelligence                |\n",
    "| Apache Spark| Big data processing                  |\n",
    "\n",
    "These are some of the commonly used tools in data science."
   ]
  },
  {
   "cell_type": "markdown",
   "metadata": {},
   "source": [
    "#### Arithmetic Expression Examples\n",
    "\n",
    "Arithmetic expressions involve mathematical operations such as addition, subtraction, multiplication, and division. Here are some examples:\n",
    "\n",
    "- Addition: 2 + 3\n",
    "- Subtraction: 5 - 1\n",
    "- Multiplication: 4 * 6\n",
    "- Division: 10 / 2\n",
    "\n",
    "These expressions can be evaluated to obtain numerical results."
   ]
  },
  {
   "cell_type": "code",
   "execution_count": null,
   "metadata": {},
   "outputs": [],
   "source": [
    "# Multiplication\n",
    "result = 2 * 3\n",
    "print(result)\n",
    "\n",
    "# Addition\n",
    "result = 5 + 1\n",
    "print(result)"
   ]
  },
  {
   "cell_type": "code",
   "execution_count": null,
   "metadata": {},
   "outputs": [],
   "source": [
    "# Conversion of minutes to hours\n",
    "minutes = 120\n",
